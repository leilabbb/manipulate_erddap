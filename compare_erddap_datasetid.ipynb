{
 "cells": [
  {
   "cell_type": "code",
   "execution_count": 112,
   "metadata": {},
   "outputs": [],
   "source": [
    "import pandas as pd\n",
    "import requests\n",
    "import urllib.error"
   ]
  },
  {
   "cell_type": "code",
   "execution_count": 113,
   "metadata": {},
   "outputs": [],
   "source": [
    "def get_url_content(url_address):\n",
    "    # get content of a url in a json format\n",
    "    r = requests.get(url_address)\n",
    "    if r.status_code is not 200:\n",
    "        print(r.reason)\n",
    "        print('Problem Issue', url_address)\n",
    "    else:\n",
    "        url_content = r.json()\n",
    "    return url_content"
   ]
  },
  {
   "cell_type": "code",
   "execution_count": 114,
   "metadata": {},
   "outputs": [],
   "source": [
    "file_ex = '/erddap/info/index.json?page=1&itemsPerPage=13000'\n",
    "search = '/erddap/search/index.json?page=1&itemsPerPage=13000&searchFor='\n",
    "gcoos_e = 'http://erddap.gcoos.org:8080'\n",
    "gcoos_5 = 'http://gcoos5.geos.tamu.edu:6060'\n",
    "gcoos_4 = 'http://gcoos4.tamu.edu:8080'\n",
    "gcoos_t = 'http://tkb.geos.tamu.edu:8080'\n",
    "griidc = 'https://erddap.griidc.org/'"
   ]
  },
  {
   "cell_type": "code",
   "execution_count": 115,
   "metadata": {},
   "outputs": [],
   "source": [
    "item_e = get_url_content(gcoos_e + file_ex )"
   ]
  },
  {
   "cell_type": "code",
   "execution_count": 116,
   "metadata": {},
   "outputs": [],
   "source": [
    "item_t = get_url_content(gcoos_t + file_ex)"
   ]
  },
  {
   "cell_type": "code",
   "execution_count": 117,
   "metadata": {},
   "outputs": [],
   "source": [
    "search_t = get_url_content(gcoos_t + search + 'manta')"
   ]
  },
  {
   "cell_type": "code",
   "execution_count": 118,
   "metadata": {},
   "outputs": [],
   "source": [
    "item_4 = get_url_content(gcoos_4 + file_ex)"
   ]
  },
  {
   "cell_type": "code",
   "execution_count": 119,
   "metadata": {},
   "outputs": [],
   "source": [
    "item_5 = get_url_content(gcoos_5 + file_ex)"
   ]
  },
  {
   "cell_type": "code",
   "execution_count": 120,
   "metadata": {},
   "outputs": [],
   "source": [
    "search_5 = get_url_content(gcoos_5 + search + 'manta')"
   ]
  },
  {
   "cell_type": "code",
   "execution_count": 179,
   "metadata": {},
   "outputs": [],
   "source": [
    "def get_column(item):\n",
    "    col_list = []\n",
    "    for ii in range(len(item['table']['rows'])):\n",
    "        col_list.append(item['table']['rows'][ii][-1])\n",
    "    return col_list"
   ]
  },
  {
   "cell_type": "code",
   "execution_count": 180,
   "metadata": {},
   "outputs": [
    {
     "name": "stdout",
     "output_type": "stream",
     "text": [
      "7201 ['deepwater_00005_ctd', 'deepwater_00006_ctd', 'deepwater_00007_ctd']\n"
     ]
    }
   ],
   "source": [
    "setid_e = get_column(item_e)\n",
    "print(len(setid_e), setid_e[0:3])"
   ]
  },
  {
   "cell_type": "code",
   "execution_count": 123,
   "metadata": {},
   "outputs": [
    {
     "name": "stdout",
     "output_type": "stream",
     "text": [
      "68 ['FGBNMS_FGBNMS-15-03_Lionfish_Removal_1', 'FGBNMS_FGBNMS-15-05_CIOERT_Tech_Dive_1', 'FGBNMS_FGBNMS-15-06_UTIG_1']\n"
     ]
    }
   ],
   "source": [
    "srch_5 = get_column(search_5)\n",
    "print(len(srch_5), srch_5[0:3])"
   ]
  },
  {
   "cell_type": "code",
   "execution_count": 124,
   "metadata": {},
   "outputs": [
    {
     "name": "stdout",
     "output_type": "stream",
     "text": [
      "68 ['FGBNMS_FGBNMS-15-03_Lionfish_Removal_1', 'FGBNMS_FGBNMS-15-05_CIOERT_Tech_Dive_1', 'FGBNMS_FGBNMS-15-06_UTIG_1']\n"
     ]
    }
   ],
   "source": [
    "srch_t = get_column(search_t)\n",
    "print(len(srch_t), srch_t[0:3])"
   ]
  },
  {
   "cell_type": "code",
   "execution_count": 125,
   "metadata": {},
   "outputs": [
    {
     "name": "stdout",
     "output_type": "stream",
     "text": [
      "2024\n"
     ]
    }
   ],
   "source": [
    "setid_t = get_column(item_t)\n",
    "print(len(setid_t))"
   ]
  },
  {
   "cell_type": "code",
   "execution_count": 126,
   "metadata": {},
   "outputs": [
    {
     "name": "stdout",
     "output_type": "stream",
     "text": [
      "12261\n"
     ]
    }
   ],
   "source": [
    "setid_5 = get_column(item_5)\n",
    "print(len(setid_5))"
   ]
  },
  {
   "cell_type": "code",
   "execution_count": 127,
   "metadata": {},
   "outputs": [
    {
     "name": "stdout",
     "output_type": "stream",
     "text": [
      "304\n"
     ]
    }
   ],
   "source": [
    "setid_4 = get_column(item_4)\n",
    "print(len(setid_4))"
   ]
  },
  {
   "cell_type": "code",
   "execution_count": 128,
   "metadata": {},
   "outputs": [],
   "source": [
    "def inlist_ab(a,b):\n",
    "    result = [x for x in a if x in b]\n",
    "    return result"
   ]
  },
  {
   "cell_type": "code",
   "execution_count": 129,
   "metadata": {},
   "outputs": [],
   "source": [
    "def notinlist_b(a,b):\n",
    "    result = [x for x in a if x not in b]\n",
    "    return result"
   ]
  },
  {
   "cell_type": "code",
   "execution_count": 130,
   "metadata": {},
   "outputs": [],
   "source": [
    "def notinlist_a(a,b):\n",
    "    result = [x for x in b if x not in a]\n",
    "    return result"
   ]
  },
  {
   "cell_type": "code",
   "execution_count": 131,
   "metadata": {},
   "outputs": [],
   "source": [
    "in4e = inlist_ab(setid_4, setid_e)\n",
    "in45 = inlist_ab(setid_4, setid_5)\n",
    "in4t = inlist_ab(setid_4, setid_t)\n",
    "in4et = inlist_ab(in4e, in4t)"
   ]
  },
  {
   "cell_type": "code",
   "execution_count": 132,
   "metadata": {},
   "outputs": [
    {
     "data": {
      "text/plain": [
       "3"
      ]
     },
     "execution_count": 132,
     "metadata": {},
     "output_type": "execute_result"
    }
   ],
   "source": [
    "pd.DataFrame(in45).to_csv('in45.csv')\n",
    "len(in45)"
   ]
  },
  {
   "cell_type": "code",
   "execution_count": 133,
   "metadata": {},
   "outputs": [],
   "source": [
    "in5t = inlist_ab(setid_5, setid_t)\n",
    "in5e = inlist_ab(setid_5, setid_e)\n",
    "in5et = inlist_ab(in5e, in5t)"
   ]
  },
  {
   "cell_type": "code",
   "execution_count": 134,
   "metadata": {},
   "outputs": [
    {
     "data": {
      "text/plain": [
       "7079"
      ]
     },
     "execution_count": 134,
     "metadata": {},
     "output_type": "execute_result"
    }
   ],
   "source": [
    "pd.DataFrame(in5e).to_csv('in5e.csv')\n",
    "len(in5e)"
   ]
  },
  {
   "cell_type": "code",
   "execution_count": 135,
   "metadata": {},
   "outputs": [],
   "source": [
    "inenot5 = notinlist_a(setid_5, setid_e)\n",
    "in4not5 = notinlist_a(setid_5, setid_4)\n",
    "intnot5 = notinlist_a(setid_5, setid_t)\n",
    "\n",
    "in5note = notinlist_a(setid_e, setid_5)\n",
    "in4note = notinlist_a(setid_e, setid_4)\n",
    "intnote = notinlist_a(setid_e, setid_t)\n",
    "\n",
    "in5not4 = notinlist_a(setid_4, setid_5)\n",
    "\n",
    "in5nott = notinlist_a(setid_t, setid_5)"
   ]
  },
  {
   "cell_type": "code",
   "execution_count": 138,
   "metadata": {},
   "outputs": [
    {
     "data": {
      "text/plain": [
       "122"
      ]
     },
     "execution_count": 138,
     "metadata": {},
     "output_type": "execute_result"
    }
   ],
   "source": [
    "pd.DataFrame(inenot5).to_csv('inenot5.csv')\n",
    "len(inenot5)"
   ]
  },
  {
   "cell_type": "code",
   "execution_count": 182,
   "metadata": {},
   "outputs": [
    {
     "data": {
      "text/plain": [
       "(0, [])"
      ]
     },
     "execution_count": 182,
     "metadata": {},
     "output_type": "execute_result"
    }
   ],
   "source": [
    "inex5not4 = notinlist_a(setid_4,inenot5)\n",
    "len(inex5not4), inex5not4"
   ]
  },
  {
   "cell_type": "code",
   "execution_count": null,
   "metadata": {},
   "outputs": [],
   "source": []
  }
 ],
 "metadata": {
  "kernelspec": {
   "display_name": "Python 3",
   "language": "python",
   "name": "python3"
  },
  "language_info": {
   "codemirror_mode": {
    "name": "ipython",
    "version": 3
   },
   "file_extension": ".py",
   "mimetype": "text/x-python",
   "name": "python",
   "nbconvert_exporter": "python",
   "pygments_lexer": "ipython3",
   "version": "3.7.4"
  }
 },
 "nbformat": 4,
 "nbformat_minor": 2
}
